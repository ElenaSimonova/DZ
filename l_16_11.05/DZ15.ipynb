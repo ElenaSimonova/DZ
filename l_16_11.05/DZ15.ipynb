{
 "cells": [
  {
   "cell_type": "markdown",
   "metadata": {},
   "source": [
    "Что делать\n",
    "\n",
    "Построить 5 графиков по выбранным данным. \n",
    "\n",
    "Графики должны быть различных видов и использовать хотя бы 2 из рассмотренных на занятии библиотек. \n",
    "\n",
    "Для каждого описать, какого типа переменные участвуют в визуализации, какова её цель (например, посмотреть на корреляцию двух величин или на распределение значений) и почему выбрали именно такой тип графика.\n",
    "\n",
    " \n",
    "\n",
    "Откуда брать данные\n",
    "\n",
    "Можно взять свой датасет или воспользоваться одним из приведенных ниже:\n",
    "\n",
    "https://www.kaggle.com/tmdb/tmdb-movie-metadata\n",
    "\n",
    "https://www.kaggle.com/c/nyc-taxi-trip-duration\n",
    "\n",
    "https://www.kaggle.com/drgilermo/nba-players-stats"
   ]
  },
  {
   "cell_type": "code",
   "execution_count": null,
   "metadata": {},
   "outputs": [],
   "source": [
    "from pylab import rcParams\n",
    "\n",
    "rcParams['figure.figsize'] = 18, 9\n",
    "\n",
    "import pandas as pd\n",
    "import matplotlib.pyplot as plt\n",
    "import seaborn as sns\n",
    "import numpy as np\n",
    "\n",
    "credit = pd.read_csv('tmdb_5000_credits.csv')\n",
    "movies = pd.read_csv('tmdb_5000_movies.csv')\n",
    "credit.columns = ['id', 'tittle', 'cast', 'crew']\n",
    "movies = movies.merge(credit, on='id')"
   ]
  },
  {
   "cell_type": "markdown",
   "metadata": {},
   "source": [
    "# 10 самых популярных фильмов\n",
    "Переменные типа float и string\n",
    "\n",
    "Цель - посмотреть топ фильмов по популярности\n",
    "\n",
    "Удобнее всего использовать столбчатую горизонтальную диаграмму"
   ]
  },
  {
   "cell_type": "code",
   "execution_count": null,
   "metadata": {
    "pycharm": {
     "name": "#%%\n"
    }
   },
   "outputs": [],
   "source": [
    "pop = movies.sort_values('popularity', ascending=False)\n",
    "plt.barh(pop['title'].head(10), pop['popularity'].head(10), align='center')\n",
    "plt.gca().invert_yaxis()\n",
    "plt.xlabel(\"Popularity\")\n",
    "plt.title(\"Popular Movies\")\n",
    "plt.show()"
   ]
  },
  {
   "cell_type": "markdown",
   "metadata": {},
   "source": [
    "# % фильмов по десятилетиям\n",
    "Переменные типа int и string\n",
    "\n",
    "Цель - оценить количество фильмов выпущенных в разные десятилетия\n",
    "\n",
    "Удобнее всего смотреть на круговой диаграмме"
   ]
  },
  {
   "cell_type": "code",
   "execution_count": null,
   "metadata": {
    "pycharm": {
     "name": "#%%\n"
    }
   },
   "outputs": [],
   "source": [
    "series = movies.release_date.dropna().apply(lambda x: str(int(x[:4]) // 10 * 10) + 's')\n",
    "counts = series.value_counts()\n",
    "counts = counts / counts.sum()\n",
    "labels = ['' if num < 0.01 else str(year) for (year, num) in counts.items()]\n",
    "plt.pie(counts, labels=labels, autopct=lambda x: '{:1.0f}%'.format(x) if x > 1 else '')\n",
    "plt.xlabel(\"% movies per decade\")\n",
    "plt.show()"
   ]
  },
  {
   "cell_type": "markdown",
   "metadata": {},
   "source": [
    "# Количество фильмов по жанрам\n",
    "Переменные типа int и string\n",
    "\n",
    "Цель - оценить количество фильмов определенного жанра и их соотношение\n",
    "\n",
    "Удобнее всего использовать столбчатую диаграмму"
   ]
  },
  {
   "cell_type": "code",
   "execution_count": null,
   "metadata": {
    "pycharm": {
     "name": "#%%\n"
    }
   },
   "outputs": [],
   "source": [
    "series = movies.genres\n",
    "genres = {}\n",
    "for i in series:\n",
    "    for j in eval(i):\n",
    "        genres.setdefault(j['name'], 0)\n",
    "        genres[j['name']] += 1\n",
    "list_of_genres = list(genres.items())\n",
    "list_of_genres.sort(key=lambda x: -x[1])\n",
    "genres = dict(list_of_genres)\n",
    "plt.bar(genres.keys(), genres.values(), align=\"center\")\n",
    "plt.show()"
   ]
  },
  {
   "cell_type": "markdown",
   "metadata": {},
   "source": [
    "# Средняя оценка по жанрам с разбросом\n",
    "Переменные типа int, float и string\n",
    "\n",
    "Цель - узнать оценку зрителей по каждому жанру\n",
    "\n",
    "Удобнее всего использовать столбчатую диаграмму с линией разброса"
   ]
  },
  {
   "cell_type": "code",
   "execution_count": null,
   "metadata": {
    "pycharm": {
     "name": "#%%\n"
    }
   },
   "outputs": [],
   "source": [
    "groups = {}\n",
    "for i in range(movies.genres.size):\n",
    "    l = eval(movies.genres.iloc[i])\n",
    "    for x in l:\n",
    "        groups.setdefault(x[\"name\"], [])\n",
    "        groups[x[\"name\"]].append(i)\n",
    "result = pd.DataFrame()\n",
    "for name, indices in groups.items():\n",
    "    rows = movies.iloc[indices].copy()\n",
    "    rows[\"genres\"] = name\n",
    "    result = result.append(rows)\n",
    "sns.set(style=\"whitegrid\")\n",
    "movies = movies.replace(0, np.nan).copy()\n",
    "f, ax = plt.subplots(figsize=(20, 10))\n",
    "sns.barplot(data=result, x=\"genres\", y=\"vote_average\")\n",
    "plt.yticks(fontsize=20)\n",
    "plt.xticks(rotation=55, fontsize=20)\n",
    "plt.xlabel(\"genres\", fontsize=30)\n",
    "plt.ylabel(\"vote_average\", fontsize=30)\n",
    "plt.show()"
   ]
  },
  {
   "cell_type": "markdown",
   "metadata": {},
   "source": [
    "# Разброс оценок по популярности и жанрам\n",
    "Переменные типа int, float и string\n",
    "\n",
    "Цель - оценка фильмов в зависимости от жанра и популярности\n",
    "\n",
    "Удобнее всего использовать точечный график"
   ]
  },
  {
   "cell_type": "code",
   "execution_count": null,
   "metadata": {
    "pycharm": {
     "name": "#%%\n"
    }
   },
   "outputs": [],
   "source": [
    "sns.set(style=\"whitegrid\")\n",
    "sns.scatterplot(data=result, x=\"popularity\", y=\"vote_average\", hue=\"genres\")\n",
    "plt.yticks(fontsize=20)\n",
    "plt.xticks(fontsize=20)\n",
    "plt.xlabel(\"popularity\", fontsize=30)\n",
    "plt.ylabel(\"vote_average\", fontsize=30)\n",
    "plt.xlim(-0.5, 100)\n",
    "plt.show()\n",
    "\n",
    "\n"
   ]
  },
  {
   "cell_type": "code",
   "execution_count": null,
   "metadata": {},
   "outputs": [],
   "source": []
  }
 ],
 "metadata": {
  "kernelspec": {
   "display_name": "Python 3",
   "language": "python",
   "name": "python3"
  },
  "language_info": {
   "codemirror_mode": {
    "name": "ipython",
    "version": 3
   },
   "file_extension": ".py",
   "mimetype": "text/x-python",
   "name": "python",
   "nbconvert_exporter": "python",
   "pygments_lexer": "ipython3",
   "version": "3.7.6"
  },
  "pycharm": {
   "stem_cell": {
    "cell_type": "raw",
    "metadata": {
     "collapsed": false
    },
    "source": []
   }
  }
 },
 "nbformat": 4,
 "nbformat_minor": 4
}
