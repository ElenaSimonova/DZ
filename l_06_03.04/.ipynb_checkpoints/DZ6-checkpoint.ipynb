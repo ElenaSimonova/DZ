{
 "cells": [
  {
   "cell_type": "markdown",
   "metadata": {},
   "source": [
    "# Домашнее задание\n",
    "1. Переведите содержимое файла purchase_log.txt в словарь purchases вида:\n",
    "```python\n",
    "{'1840e0b9d4': 'Продукты', ...}\n",
    "```\n",
    "\n",
    "2. Для каждого user_id в файле visit_log.csv определите третий столбец с категорией покупки (если покупка была, сам файл visit_log.csv изменять не надо). Запишите в файл funnel.csv визиты из файла visit_log.csv, в которых были покупки с указанием категории.\n",
    "\n",
    "Учтите условия на данные:\n",
    "- содержимое purchase_log.txt помещается в оперативную память компьютера\n",
    "- содержимое visit_log.csv - нет; используйте только построчную обработку этого файла #Чтение построчно (.readline(), next())\n"
   ]
  },
  {
   "cell_type": "markdown",
   "metadata": {},
   "source": [
    "!!!!!!!!!!!\n",
    "У меня при запуске purchase_log.txt и visit_log.csv вылетала ошибка с лимитом. Не получилось настроить лимит, поэтому создала файлы с меньшим кол-вом строк 11.txt и 12.csv, чтобы хоть как-то смотреть что я делаю. Файлы аналогичны нужным, просто копировать - вставить первые строк 20-30. \n",
    "!!!!!!!!!!!"
   ]
  },
  {
   "cell_type": "code",
   "execution_count": 1,
   "metadata": {},
   "outputs": [],
   "source": [
    "import json\n",
    "new_dict = {}\n",
    "f1 = open('11.txt', encoding ='utf-8')\n",
    "l = f1.read().split('\\n')\n",
    "#print(l)\n",
    "f1.close()\n",
    "for line in l: \n",
    "    if line:\n",
    "        purchases = json.loads(line) # перевод строки в словарь\n",
    "        new_dict.update({purchases['user_id']:purchases['category']})\n",
    "#print(new_dict)"
   ]
  },
  {
   "cell_type": "code",
   "execution_count": 2,
   "metadata": {},
   "outputs": [],
   "source": [
    "x = []\n",
    "with open('12.csv', encoding ='utf-8') as f:\n",
    "    item = f.readline().strip()\n",
    "    while item:\n",
    "        id_ = item[:item.find(',')]\n",
    "        #print(id_)\n",
    "        if new_dict.get(id_):\n",
    "            item += ','+new_dict.get(id_)\n",
    "        x.append(item)\n",
    "        item = f.readline().strip()\n",
    "f2 = open('funnel.csv','w', encoding ='utf-8')\n",
    "for i in x:\n",
    "    f2.write(i+'\\n')\n",
    "f2.close()"
   ]
  },
  {
   "cell_type": "code",
   "execution_count": null,
   "metadata": {},
   "outputs": [],
   "source": []
  }
 ],
 "metadata": {
  "kernelspec": {
   "display_name": "Python 3",
   "language": "python",
   "name": "python3"
  },
  "language_info": {
   "codemirror_mode": {
    "name": "ipython",
    "version": 3
   },
   "file_extension": ".py",
   "mimetype": "text/x-python",
   "name": "python",
   "nbconvert_exporter": "python",
   "pygments_lexer": "ipython3",
   "version": "3.7.6"
  }
 },
 "nbformat": 4,
 "nbformat_minor": 4
}
