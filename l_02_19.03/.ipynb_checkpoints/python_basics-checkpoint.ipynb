{
 "cells": [
  {
   "cell_type": "markdown",
   "metadata": {},
   "source": [
    "**Задание 1**. Даны 2 строки: *long_phrase* и *short_phrase*. \n",
    "Напишите код, который проверяет действительно ли длинная фраза *long_phrase* длиннее короткой *short_phrase*. И выводит *True* или *False* в зависимости от результата сравнения."
   ]
  },
  {
   "cell_type": "code",
   "execution_count": 3,
   "metadata": {},
   "outputs": [
    {
     "data": {
      "text/plain": [
       "True"
      ]
     },
     "execution_count": 3,
     "metadata": {},
     "output_type": "execute_result"
    }
   ],
   "source": [
    "long_phrase = 'Насколько проще было бы писать программы, если бы не заказчики'\n",
    "short_phrase = '640Кб должно хватить для любых задач. Билл Гейтс (по легенде)'\n",
    "\n",
    "len(long_phrase) > len(short_phrase)"
   ]
  },
  {
   "cell_type": "code",
   "execution_count": null,
   "metadata": {},
   "outputs": [],
   "source": []
  },
  {
   "cell_type": "markdown",
   "metadata": {},
   "source": [
    "**Задание 2**. Дано значение объема файла в байтах (*в мегабайте 2^20 байт*). Напишите перевод этого значения в мегабайты в формате: \"*Объем файла равен 213.68Mb*\"."
   ]
  },
  {
   "cell_type": "code",
   "execution_count": 12,
   "metadata": {},
   "outputs": [
    {
     "name": "stdout",
     "output_type": "stream",
     "text": [
      "Объем файла равен  0.95367431640625 Mb\n"
     ]
    }
   ],
   "source": [
    "b = 1000000\n",
    "mb = b / (2**20)\n",
    "\n",
    "print('Объем файла равен ', mb,'Mb')"
   ]
  },
  {
   "cell_type": "markdown",
   "metadata": {},
   "source": [
    "**Задание 3**. Разработать приложение для определения знака зодиака по дате рождения. Пример:\n",
    "\n",
    "Введите месяц: март\n",
    "\n",
    "Введите число: 6\n",
    "\n",
    "Вывод:\n",
    "Рыбы"
   ]
  },
  {
   "cell_type": "code",
   "execution_count": 7,
   "metadata": {},
   "outputs": [
    {
     "name": "stdout",
     "output_type": "stream",
     "text": [
      "Введите дату10\n",
      "Введите месяцапрель\n",
      "овен\n"
     ]
    }
   ],
   "source": [
    "day = int(input('Введите дату'))\n",
    "month = input('Введите месяц')\n",
    "\n",
    "if (21 <= day <= 31) and month == 'март':\n",
    "    print('овен')\n",
    "elif (1 <= day <= 20) and month == 'апрель':\n",
    "    print('овен')\n",
    "elif (21 <= day <= 30) and month == 'апрель':\n",
    "    print('телец')\n",
    "elif (1 <= day <= 20) and month == 'май':\n",
    "    print('телец')\n",
    "elif (21 <= day <= 31) and month == 'май':\n",
    "    print('близнецы')\n",
    "elif (1 <= day <= 21) and month == 'июнь':\n",
    "    print('близнецы')\n",
    "elif (22 <= day <= 30) and month == 'июнь':\n",
    "    print('рак')\n",
    "elif (1 <= day <= 22) and month == 'июль':\n",
    "    print('рак')\n",
    "elif (23 <= day <= 31) and month == 'июль':\n",
    "    print('лев')\n",
    "elif (1 <= day <= 23) and month == 'август':\n",
    "    print('лев')\n",
    "elif (24 <= day <= 31) and month == 'август':\n",
    "    print('дева')\n",
    "elif (1 <= day <= 23) and month == 'сентябрь':\n",
    "    print('дева')\n",
    "elif (24 <= day <= 30) and month == 'сентябрь':\n",
    "    print('весы')\n",
    "elif (1 <= day <= 23) and month == 'октябрь':\n",
    "    print('весы')\n",
    "elif (24 <= day <= 31) and month == 'октябрь':\n",
    "    print('скорпион')\n",
    "elif (1 <= day <= 22) and month == 'ноябрь':\n",
    "    print('скорпион')\n",
    "elif (23 <= day <= 30) and month == 'ноябрь':\n",
    "    print('стрелец')\n",
    "elif (1 <= day <= 21) and month == 'декабрь':\n",
    "    print('стрелец')\n",
    "elif (22 <= day <= 31) and month == 'декабрь':\n",
    "    print('козерог')\n",
    "elif (1 <= day <= 20) and month == 'январь':\n",
    "    print('козерог')\n",
    "elif (21 <= day <= 31) and month == 'январь':\n",
    "    print('водолей')\n",
    "elif (1 <= day <= 20) and month == 'февраль':\n",
    "    print('водолей')\n",
    "elif (21 <= day <= 29) and month == 'февраль':\n",
    "    print('рыбы')\n",
    "elif (1 <= day <= 20) and month == 'март':\n",
    "    print('рыбы')\n",
    "else: \n",
    "    print('Вы особенный')\n"
   ]
  },
  {
   "cell_type": "markdown",
   "metadata": {},
   "source": [
    "**Задание 4**. Нужно разработать приложение для финансового планирования.\n",
    "Приложение учитывает сколько уходит на ипотеку, \"на жизнь\" и сколько нужно отложить на пенсию.\n",
    "Пользователь вводит:\n",
    "- заработанную плату в месяц.\n",
    "- сколько процентов от ЗП уходит на ипотеку.\n",
    "- сколько процентов от ЗП уходит \"на жизнь\".\n",
    "- сколько раз приходит премия в год.\n",
    "\n",
    "Остальная часть заработанной платы откладывается на пенсию.\n",
    "\n",
    "Также пользователю приходит премия в размере зарплаты, от которой половина уходит на отпуск, а вторая половина откладывается.\n",
    "\n",
    "Программа должна учитывать сколько премий было в год.\n",
    "\n",
    "Нужно вывести сколько денег тратит пользователь на ипотеку и сколько он накопит за год.\n",
    "\n",
    "Пример:\n",
    "\n",
    "Введите заработанную плату в месяц: 100000\n",
    "\n",
    "Введите сколько процентов уходит на ипотеку: 30\n",
    "\n",
    "Введите сколько процентов уходит на жизнь: 50\n",
    "\n",
    "Введите количество премий за год: 2\n",
    "\n",
    "Вывод:\n",
    "На ипотеку было потрачено: 360000 рублей\n",
    "Было накоплено: 340000 рублей"
   ]
  },
  {
   "cell_type": "code",
   "execution_count": 8,
   "metadata": {},
   "outputs": [
    {
     "name": "stdout",
     "output_type": "stream",
     "text": [
      "З/П в месяц 500000\n",
      "Сколько % уходит на ипотеку 44\n",
      "Сколько % уходит на жизнь 50\n",
      "Сколько раз приходит премия в год 5\n",
      "На ипотеку было потрачено:  2640000.0 рублей. Было накоплено  1610000.0 рублей.\n"
     ]
    }
   ],
   "source": [
    "salary = int(input('З/П в месяц '))\n",
    "mortgage_interest = int(input('Сколько % уходит на ипотеку '))\n",
    "life_interest = int(input('Сколько % уходит на жизнь '))\n",
    "premium_times = int(input('Сколько раз приходит премия в год '))\n",
    "\n",
    "mortgage_costs = salary * (mortgage_interest / 100) * 12\n",
    "life_costs = salary * (life_interest / 100) * 12\n",
    "revenue = (12 * salary - mortgage_costs - life_costs) + (premium_times * (salary / 2))\n",
    "print('На ипотеку было потрачено: ', mortgage_costs, 'рублей.', 'Было накоплено ', revenue, 'рублей.')\n"
   ]
  },
  {
   "cell_type": "code",
   "execution_count": null,
   "metadata": {},
   "outputs": [],
   "source": []
  }
 ],
 "metadata": {
  "kernelspec": {
   "display_name": "Python 3",
   "language": "python",
   "name": "python3"
  },
  "language_info": {
   "codemirror_mode": {
    "name": "ipython",
    "version": 3
   },
   "file_extension": ".py",
   "mimetype": "text/x-python",
   "name": "python",
   "nbconvert_exporter": "python",
   "pygments_lexer": "ipython3",
   "version": "3.7.6"
  }
 },
 "nbformat": 4,
 "nbformat_minor": 2
}
