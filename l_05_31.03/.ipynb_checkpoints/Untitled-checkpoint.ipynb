{
 "cells": [
  {
   "cell_type": "markdown",
   "metadata": {},
   "source": [
    "Вы работаете секретарем и вам постоянно приходят различные документы. Вы должны быть очень внимательны, чтобы не потерять ни один документ. Каталог документов хранится в следующем виде:"
   ]
  },
  {
   "cell_type": "code",
   "execution_count": 1,
   "metadata": {},
   "outputs": [],
   "source": [
    "\n",
    "documents = [\n",
    "    {'type': 'passport', 'number': '2207 876234', 'name': 'Василий Гупкин'},\n",
    "    {'type': 'invoice', 'number': '11-2', 'name': 'Геннадий Покемонов'},\n",
    "    {'type': 'insurance', 'number': '10006', 'name': 'Аристарх Павлов'}\n",
    "]\n"
   ]
  },
  {
   "cell_type": "markdown",
   "metadata": {},
   "source": [
    "Перечень полок, на которых находятся документы хранится в следующем виде:"
   ]
  },
  {
   "cell_type": "code",
   "execution_count": 2,
   "metadata": {},
   "outputs": [],
   "source": [
    "directories = {\n",
    "    '1': ['2207 876234', '11-2'],\n",
    "    '2': ['10006'],\n",
    "    '3': []\n",
    "}\n",
    "\n"
   ]
  },
  {
   "cell_type": "markdown",
   "metadata": {},
   "source": [
    "Необходимо реализовать пользовательские команды (внимание! это не название функций, которые должны быть выразительными, а команды, которые вводит пользователь, чтобы получить необходимый результат):\n",
    "\n",
    "p – people – команда, которая спросит номер документа и выведет имя человека, которому он принадлежит;\n",
    "s – shelf – команда, которая спросит номер документа и выведет номер полки, на которой он находится\n",
    "Правильно обработайте ситуацию, когда пользователь будет вводить несуществующий документ.\n",
    "l – list – команда, которая выведет список всех документов в формате\n",
    "passport \"2207 876234\" \"Василий Гупкин\"\n",
    "as – add shelf – команда, которая спросит номер новой полки и добавит ее в перечень\n",
    "d – delete – команда, которая спросит номер документа и удалит его из каталога и из перечня полок. Предусмотрите сценарий, когда пользователь вводит несуществующий документ;\n",
    "m – move – команда, которая спросит номер документа и целевую полку и переместит его с текущей полки на целевую. Корректно обработайте кейсы, когда пользователь пытается переместить несуществующий документ или переместить документ на несуществующую полку;\n",
    "a – add – команда, которая добавит новый документ в каталог и в перечень полок, спросив его номер, тип, имя владельца и номер полки, на котором он будет храниться."
   ]
  },
  {
   "cell_type": "code",
   "execution_count": 3,
   "metadata": {},
   "outputs": [],
   "source": [
    "#p-people\n",
    "def doc_of_whom(doc):\n",
    "    num_of_doc_p = input('Введите номер документа')\n",
    "    ans = ''\n",
    "    for docs in doc:\n",
    "        if num_of_doc_p == docs['number']:\n",
    "            ans = docs['name']\n",
    "    if ans:\n",
    "        print(ans)\n",
    "    else:\n",
    "        print('Документ не обнаружен')\n",
    "#doc_of_whom(documents)"
   ]
  },
  {
   "cell_type": "code",
   "execution_count": 4,
   "metadata": {},
   "outputs": [],
   "source": [
    "#s-shelf\n",
    "def num_of_docs(direct):\n",
    "    num_of_doc_s = input('Введите номер документа')\n",
    "    ans = ''\n",
    "    for docs in direct:\n",
    "        if num_of_doc_s in direct.get(docs):\n",
    "            ans = docs\n",
    "    if ans:\n",
    "        print(ans)\n",
    "    else:\n",
    "        print('Документ не обнаружен')\n",
    "#num_of_docs(directories)"
   ]
  },
  {
   "cell_type": "code",
   "execution_count": 5,
   "metadata": {},
   "outputs": [],
   "source": [
    "#l–list\n",
    "def list_of_docs(doc):\n",
    "    for docs in doc:\n",
    "        print(docs['type'], '\"'+docs['number']+'\"', '\"'+docs['name']+'\"' )\n",
    "#list_of_docs(documents)    "
   ]
  },
  {
   "cell_type": "code",
   "execution_count": 6,
   "metadata": {},
   "outputs": [],
   "source": [
    "#as–add shelf\n",
    "def new_shelf(direct):\n",
    "    new_s = input('Введите номер новой полки')\n",
    "    direct[new_s] = []\n",
    "    #print(directories)\n",
    "#new_shelf(directories)"
   ]
  },
  {
   "cell_type": "code",
   "execution_count": 7,
   "metadata": {},
   "outputs": [],
   "source": [
    "#d–delete\n",
    "def list_of_docs(docs, direct):\n",
    "    num_of_docs_d = input('Введите номер удаляемого документа')\n",
    "    ans_del = False\n",
    "    for doc in docs:\n",
    "        if num_of_docs_d in doc['number']:\n",
    "            ans_del = True\n",
    "            docs.remove(doc)\n",
    "            break\n",
    "    if not ans_del:\n",
    "        print('Документ не обнаружен')\n",
    "    ans_del = False\n",
    "    for doc in direct:\n",
    "        if num_of_docs_d in direct.get(doc):\n",
    "            ans_del = True\n",
    "            direct.get(doc).remove(num_of_docs_d)\n",
    "            break\n",
    "    if not ans_del:\n",
    "        print('Документ не обнаружен')\n",
    " \n",
    "#list_of_docs(documents, directories)\n",
    "#print(documents)\n",
    "#print(directories)\n",
    "    \n",
    "    "
   ]
  },
  {
   "cell_type": "code",
   "execution_count": 8,
   "metadata": {},
   "outputs": [],
   "source": [
    "#m–move\n",
    "def move_doc(direct):\n",
    "    num_of_docs_m = input('Введите номер документа')\n",
    "    shelf_m = input('Введите целевую полку')\n",
    "    is_shelf = False\n",
    "    for shelf in direct:\n",
    "        if shelf == shelf_m:\n",
    "            is_shelf = True\n",
    "    if is_shelf:\n",
    "        ans_move = False\n",
    "        for doc in direct:\n",
    "            if num_of_docs_m in direct.get(doc):\n",
    "                ans_move = True\n",
    "                direct.get(doc).remove(num_of_docs_m)\n",
    "                direct.get(shelf_m).append(num_of_docs_m)\n",
    "                break\n",
    "        if not ans_move:\n",
    "            print('Документ не обнаружен')\n",
    "    else:\n",
    "        print('Полки нет')\n",
    "#move_doc(directories)\n",
    "#print(directories)\n",
    "        \n",
    "    "
   ]
  },
  {
   "cell_type": "code",
   "execution_count": 9,
   "metadata": {},
   "outputs": [],
   "source": [
    "#a–add\n",
    "def new_doc():\n",
    "    new_type = input('Введите тип документа')\n",
    "    new_number = input('Введите номер документа')\n",
    "    new_name = input('Введите ФИО')\n",
    "    new_num_of_shelf = input('Введите номер полки для документа')\n",
    "    new_dict = {'type': new_type, 'number': new_number, 'name': new_name}\n",
    "    documents.append(new_dict)\n",
    "    directories.get(new_num_of_shelf).append(new_number)\n",
    "#new_doc()\n",
    "#print(directories)\n",
    "#print(documents)\n",
    "    \n",
    "    "
   ]
  },
  {
   "cell_type": "code",
   "execution_count": null,
   "metadata": {},
   "outputs": [
    {
     "name": "stdout",
     "output_type": "stream",
     "text": [
      "p\n",
      "Введите номер документа11-2\n",
      "Геннадий Покемонов\n"
     ]
    }
   ],
   "source": [
    "def main ():\n",
    "    while True:\n",
    "        user_input = input()\n",
    "        if user_input == 'p':\n",
    "            doc_of_whom(documents)\n",
    "        elif user_input == 's':\n",
    "            num_of_doc(directories)\n",
    "        elif user_input == 'l':\n",
    "            list_of_docs(documents)\n",
    "        elif user_input == 'as':\n",
    "            new_shelf(directories)\n",
    "        elif user_input == 'd':\n",
    "            list_of_docs(documents, directories)            \n",
    "        elif user_input == 'm':\n",
    "            move_doc(directories)            \n",
    "        elif user_input == 'a':\n",
    "            new_doc()\n",
    "main ()\n"
   ]
  },
  {
   "cell_type": "code",
   "execution_count": null,
   "metadata": {},
   "outputs": [],
   "source": []
  }
 ],
 "metadata": {
  "kernelspec": {
   "display_name": "Python 3",
   "language": "python",
   "name": "python3"
  },
  "language_info": {
   "codemirror_mode": {
    "name": "ipython",
    "version": 3
   },
   "file_extension": ".py",
   "mimetype": "text/x-python",
   "name": "python",
   "nbconvert_exporter": "python",
   "pygments_lexer": "ipython3",
   "version": "3.7.6"
  }
 },
 "nbformat": 4,
 "nbformat_minor": 4
}
